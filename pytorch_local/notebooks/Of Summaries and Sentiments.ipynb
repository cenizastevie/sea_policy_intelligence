{
 "cells": [
  {
   "cell_type": "code",
   "execution_count": 2,
   "id": "7491ed7e-fddc-4cf8-80c1-9b4bb8ca676e",
   "metadata": {},
   "outputs": [
    {
     "name": "stdout",
     "output_type": "stream",
     "text": [
      "Using device: cpu\n",
      "Looking for models in: /workspace/hf_models\n",
      "Sentiment model path: True\n",
      "Summarization model path: True\n"
     ]
    }
   ],
   "source": [
    "import os\n",
    "import sys\n",
    "from pathlib import Path\n",
    "from transformers import (\n",
    "    AutoModelForSequenceClassification,\n",
    "    AutoModelForSeq2SeqLM,\n",
    "    AutoTokenizer,\n",
    "    pipeline\n",
    ")\n",
    "import torch\n",
    "\n",
    "# Check if CUDA is available\n",
    "device = \"cuda\" if torch.cuda.is_available() else \"cpu\"\n",
    "print(f\"Using device: {device}\")\n",
    "\n",
    "# Set up paths to local models\n",
    "base_path = Path(\"hf_models\")  # Adjust path as needed\n",
    "sentiment_path = base_path / \"sentiment\"\n",
    "summarization_path = base_path / \"summarization\"\n",
    "\n",
    "print(f\"Looking for models in: {base_path.absolute()}\")\n",
    "print(f\"Sentiment model path: {sentiment_path.exists()}\")\n",
    "print(f\"Summarization model path: {summarization_path.exists()}\")"
   ]
  },
  {
   "cell_type": "code",
   "execution_count": 8,
   "id": "0c1e65e4-a68e-4f42-a660-be830df20f9d",
   "metadata": {},
   "outputs": [
    {
     "name": "stdout",
     "output_type": "stream",
     "text": [
      "Loading sentiment analysis model...\n",
      "✅ Sentiment analysis model loaded successfully!\n"
     ]
    }
   ],
   "source": [
    "# Load Sentiment Analysis Model\n",
    "print(\"Loading sentiment analysis model...\")\n",
    "\n",
    "# Method 1: Load model and tokenizer separately\n",
    "sentiment_model = AutoModelForSequenceClassification.from_pretrained(\n",
    "    sentiment_path,\n",
    "    local_files_only=True  # This ensures we only use local files\n",
    ")\n",
    "sentiment_tokenizer = AutoTokenizer.from_pretrained(\n",
    "    sentiment_path,\n",
    "    local_files_only=True\n",
    ")\n",
    "\n",
    "# Method 2: Create a pipeline (recommended for ease of use)\n",
    "sentiment_pipeline = pipeline(\n",
    "    \"sentiment-analysis\",\n",
    "    model=sentiment_model,\n",
    "    tokenizer=sentiment_tokenizer,\n",
    "    device=0 if device == \"cuda\" else -1  # Use GPU if available\n",
    ")\n",
    "\n",
    "print(\"✅ Sentiment analysis model loaded successfully!\")"
   ]
  },
  {
   "cell_type": "code",
   "execution_count": 9,
   "id": "2ecdc31e-912a-44c6-9199-dd9333cdc6b7",
   "metadata": {},
   "outputs": [
    {
     "name": "stdout",
     "output_type": "stream",
     "text": [
      "Loading summarization model...\n",
      "✅ Summarization model loaded successfully!\n"
     ]
    }
   ],
   "source": [
    "# Load Summarization Model\n",
    "print(\"Loading summarization model...\")\n",
    "\n",
    "summarization_model = AutoModelForSeq2SeqLM.from_pretrained(\n",
    "    summarization_path,\n",
    "    local_files_only=True\n",
    ")\n",
    "summarization_tokenizer = AutoTokenizer.from_pretrained(\n",
    "    summarization_path,\n",
    "    local_files_only=True\n",
    ")\n",
    "\n",
    "# Create summarization pipeline\n",
    "summarization_pipeline = pipeline(\n",
    "    \"summarization\",\n",
    "    model=summarization_model,\n",
    "    tokenizer=summarization_tokenizer,\n",
    "    device=0 if device == \"cuda\" else -1\n",
    ")\n",
    "\n",
    "print(\"✅ Summarization model loaded successfully!\")"
   ]
  },
  {
   "cell_type": "code",
   "execution_count": 4,
   "id": "afd2b518-ae62-4c9b-b2c4-613cccae922e",
   "metadata": {},
   "outputs": [
    {
     "name": "stdout",
     "output_type": "stream",
     "text": [
      "<class 'pandas.core.frame.DataFrame'>\n",
      "RangeIndex: 1806 entries, 0 to 1805\n",
      "Data columns (total 7 columns):\n",
      " #   Column       Non-Null Count  Dtype \n",
      "---  ------       --------------  ----- \n",
      " 0   url          1806 non-null   object\n",
      " 1   title        1806 non-null   object\n",
      " 2   language     1806 non-null   object\n",
      " 3   domain       1806 non-null   object\n",
      " 4   warc_file    1806 non-null   object\n",
      " 5   scrape_date  1806 non-null   object\n",
      " 6   content      1806 non-null   object\n",
      "dtypes: object(7)\n",
      "memory usage: 98.9+ KB\n"
     ]
    }
   ],
   "source": [
    "import pandas as pd\n",
    "\n",
    "csv_file = \"channelnewsasia_com.csv\"\n",
    "df = pd.read_csv(csv_file)\n",
    "df.info()"
   ]
  },
  {
   "cell_type": "code",
   "execution_count": 5,
   "id": "fd4a2b1b-36d5-445d-82b3-6646119abd0d",
   "metadata": {},
   "outputs": [
    {
     "data": {
      "text/html": [
       "<div>\n",
       "<style scoped>\n",
       "    .dataframe tbody tr th:only-of-type {\n",
       "        vertical-align: middle;\n",
       "    }\n",
       "\n",
       "    .dataframe tbody tr th {\n",
       "        vertical-align: top;\n",
       "    }\n",
       "\n",
       "    .dataframe thead th {\n",
       "        text-align: right;\n",
       "    }\n",
       "</style>\n",
       "<table border=\"1\" class=\"dataframe\">\n",
       "  <thead>\n",
       "    <tr style=\"text-align: right;\">\n",
       "      <th></th>\n",
       "      <th>url</th>\n",
       "      <th>title</th>\n",
       "      <th>language</th>\n",
       "      <th>domain</th>\n",
       "      <th>warc_file</th>\n",
       "      <th>scrape_date</th>\n",
       "      <th>content</th>\n",
       "    </tr>\n",
       "  </thead>\n",
       "  <tbody>\n",
       "    <tr>\n",
       "      <th>0</th>\n",
       "      <td>https://www.channelnewsasia.com/3-ktv-operator...</td>\n",
       "      <td>3 KTV operators under investigation for allege...</td>\n",
       "      <td>en</td>\n",
       "      <td>channelnewsasia_com</td>\n",
       "      <td>CC-MAIN-20210925052020-20210925082020-00073.wa...</td>\n",
       "      <td>2021-09-25T06:02:24Z</td>\n",
       "      <td>SINGAPORE: Three KTV operators are being inves...</td>\n",
       "    </tr>\n",
       "    <tr>\n",
       "      <th>1</th>\n",
       "      <td>https://www.channelnewsasia.com/access/ferrari...</td>\n",
       "      <td>Why Ferrari chose to equip the F8 Tributo with...</td>\n",
       "      <td>en</td>\n",
       "      <td>channelnewsasia_com</td>\n",
       "      <td>CC-MAIN-20210919095911-20210919125911-00038.wa...</td>\n",
       "      <td>2021-09-19T10:58:33Z</td>\n",
       "      <td>Ferrari’s most popular model line has been its...</td>\n",
       "    </tr>\n",
       "    <tr>\n",
       "      <th>2</th>\n",
       "      <td>https://www.channelnewsasia.com/advertorial/ko...</td>\n",
       "      <td>Kopar at Newton: A launchpad to prime spots in...</td>\n",
       "      <td>en</td>\n",
       "      <td>channelnewsasia_com</td>\n",
       "      <td>CC-MAIN-20210920191528-20210920221528-00717.wa...</td>\n",
       "      <td>2021-09-20T21:33:54Z</td>\n",
       "      <td>City living comes with a touch of glamour and ...</td>\n",
       "    </tr>\n",
       "    <tr>\n",
       "      <th>3</th>\n",
       "      <td>https://www.channelnewsasia.com/asia/13-chines...</td>\n",
       "      <td>13 Chinese tourists killed as bus plunges into...</td>\n",
       "      <td>en</td>\n",
       "      <td>channelnewsasia_com</td>\n",
       "      <td>CC-MAIN-20210923195546-20210923225546-00343.wa...</td>\n",
       "      <td>2021-09-23T20:53:42Z</td>\n",
       "      <td>BANGKOK: At least 13 Chinese tourists were kil...</td>\n",
       "    </tr>\n",
       "    <tr>\n",
       "      <th>4</th>\n",
       "      <td>https://www.channelnewsasia.com/asia/17-arrest...</td>\n",
       "      <td>17 arrested over violence at Hindu temple in M...</td>\n",
       "      <td>en</td>\n",
       "      <td>channelnewsasia_com</td>\n",
       "      <td>CC-MAIN-20210923013955-20210923043955-00655.wa...</td>\n",
       "      <td>2021-09-23T03:20:50Z</td>\n",
       "      <td>SHAH ALAM: Seventeen men, all Malaysian, have ...</td>\n",
       "    </tr>\n",
       "  </tbody>\n",
       "</table>\n",
       "</div>"
      ],
      "text/plain": [
       "                                                 url  \\\n",
       "0  https://www.channelnewsasia.com/3-ktv-operator...   \n",
       "1  https://www.channelnewsasia.com/access/ferrari...   \n",
       "2  https://www.channelnewsasia.com/advertorial/ko...   \n",
       "3  https://www.channelnewsasia.com/asia/13-chines...   \n",
       "4  https://www.channelnewsasia.com/asia/17-arrest...   \n",
       "\n",
       "                                               title language  \\\n",
       "0  3 KTV operators under investigation for allege...       en   \n",
       "1  Why Ferrari chose to equip the F8 Tributo with...       en   \n",
       "2  Kopar at Newton: A launchpad to prime spots in...       en   \n",
       "3  13 Chinese tourists killed as bus plunges into...       en   \n",
       "4  17 arrested over violence at Hindu temple in M...       en   \n",
       "\n",
       "                domain                                          warc_file  \\\n",
       "0  channelnewsasia_com  CC-MAIN-20210925052020-20210925082020-00073.wa...   \n",
       "1  channelnewsasia_com  CC-MAIN-20210919095911-20210919125911-00038.wa...   \n",
       "2  channelnewsasia_com  CC-MAIN-20210920191528-20210920221528-00717.wa...   \n",
       "3  channelnewsasia_com  CC-MAIN-20210923195546-20210923225546-00343.wa...   \n",
       "4  channelnewsasia_com  CC-MAIN-20210923013955-20210923043955-00655.wa...   \n",
       "\n",
       "            scrape_date                                            content  \n",
       "0  2021-09-25T06:02:24Z  SINGAPORE: Three KTV operators are being inves...  \n",
       "1  2021-09-19T10:58:33Z  Ferrari’s most popular model line has been its...  \n",
       "2  2021-09-20T21:33:54Z  City living comes with a touch of glamour and ...  \n",
       "3  2021-09-23T20:53:42Z  BANGKOK: At least 13 Chinese tourists were kil...  \n",
       "4  2021-09-23T03:20:50Z  SHAH ALAM: Seventeen men, all Malaysian, have ...  "
      ]
     },
     "execution_count": 5,
     "metadata": {},
     "output_type": "execute_result"
    }
   ],
   "source": [
    "df.head()"
   ]
  },
  {
   "cell_type": "code",
   "execution_count": 6,
   "id": "a04d866e-cdeb-43dd-a90e-6098124b892d",
   "metadata": {},
   "outputs": [],
   "source": [
    "from tqdm import tqdm\n",
    "\n",
    "def process_text_batch(texts, batch_size=8):\n",
    "    \"\"\"Process texts in batches for better performance\"\"\"\n",
    "    summaries = []\n",
    "    sentiments = []\n",
    "    \n",
    "    # Process in batches\n",
    "    for i in tqdm(range(0, len(texts), batch_size), desc=\"Processing batches\"):\n",
    "        batch_texts = texts[i:i+batch_size]\n",
    "        \n",
    "        # Generate summaries for batch\n",
    "        try:\n",
    "            batch_summaries = summarization_pipeline(\n",
    "                batch_texts,\n",
    "                max_length=150,\n",
    "                min_length=50,\n",
    "                do_sample=False,\n",
    "                truncation=True\n",
    "            )\n",
    "            \n",
    "            # Extract summary text\n",
    "            batch_summary_texts = [s['summary_text'] for s in batch_summaries]\n",
    "            summaries.extend(batch_summary_texts)\n",
    "            \n",
    "            # Analyze sentiment of summaries\n",
    "            batch_sentiments = sentiment_pipeline(batch_summary_texts)\n",
    "            sentiments.extend(batch_sentiments)\n",
    "            \n",
    "        except Exception as e:\n",
    "            print(f\"Error processing batch {i//batch_size + 1}: {e}\")\n",
    "            # Add placeholder values for failed batch\n",
    "            for _ in batch_texts:\n",
    "                summaries.append(\"Error generating summary\")\n",
    "                sentiments.append({\"label\": \"UNKNOWN\", \"score\": 0.0})\n",
    "    \n",
    "    return summaries, sentiments"
   ]
  },
  {
   "cell_type": "code",
   "execution_count": 10,
   "id": "3cbc6296-3e7b-450e-9ceb-0a76569bb097",
   "metadata": {},
   "outputs": [
    {
     "name": "stdout",
     "output_type": "stream",
     "text": [
      "Processing 1806 articles...\n",
      "Processing first 10 articles for testing...\n"
     ]
    },
    {
     "name": "stderr",
     "output_type": "stream",
     "text": [
      "Processing batches:   0%|          | 0/2 [00:00<?, ?it/s]Your max_length is set to 150, but your input_length is only 116. Since this is a summarization task, where outputs shorter than the input are typically wanted, you might consider decreasing max_length manually, e.g. summarizer('...', max_length=58)\n",
      "Processing batches: 100%|██████████| 2/2 [01:04<00:00, 32.31s/it]"
     ]
    },
    {
     "name": "stdout",
     "output_type": "stream",
     "text": [
      "✅ Processing complete!\n",
      "Results DataFrame shape: (10, 4)\n",
      "\n",
      "First few results:\n",
      "                                       original_text  \\\n",
      "0  SINGAPORE: Three KTV operators are being inves...   \n",
      "1  Ferrari’s most popular model line has been its...   \n",
      "2  City living comes with a touch of glamour and ...   \n",
      "3  BANGKOK: At least 13 Chinese tourists were kil...   \n",
      "4  SHAH ALAM: Seventeen men, all Malaysian, have ...   \n",
      "\n",
      "                                             summary sentiment_label  \\\n",
      "0  Three KTV operators are being investigated aft...        NEGATIVE   \n",
      "1  Ferrari's most popular model line has been its...        POSITIVE   \n",
      "2  City living comes with a touch of glamour and ...        POSITIVE   \n",
      "3  At least 13 Chinese tourists were killed and d...        NEGATIVE   \n",
      "4  Seventeen men, all Malaysian, arrested in conn...        NEGATIVE   \n",
      "\n",
      "   sentiment_score  \n",
      "0         0.997454  \n",
      "1         0.998887  \n",
      "2         0.999711  \n",
      "3         0.996809  \n",
      "4         0.987689  \n"
     ]
    },
    {
     "name": "stderr",
     "output_type": "stream",
     "text": [
      "\n"
     ]
    }
   ],
   "source": [
    "text_column = 'content'\n",
    "print(f\"Processing {len(df)} articles...\")\n",
    "texts = df[text_column].fillna(\"\").tolist()\n",
    "test_size = min(10, len(texts))\n",
    "print(f\"Processing first {test_size} articles for testing...\")\n",
    "\n",
    "summaries, sentiments = process_text_batch(texts[:test_size])\n",
    "\n",
    "# Create new DataFrame\n",
    "results_df = pd.DataFrame({\n",
    "    'original_text': texts[:test_size],\n",
    "    'summary': summaries,\n",
    "    'sentiment_label': [s['label'] for s in sentiments],\n",
    "    'sentiment_score': [s['score'] for s in sentiments]\n",
    "})\n",
    "\n",
    "print(\"✅ Processing complete!\")\n",
    "print(f\"Results DataFrame shape: {results_df.shape}\")\n",
    "print(\"\\nFirst few results:\")\n",
    "print(results_df.head())"
   ]
  },
  {
   "cell_type": "code",
   "execution_count": null,
   "id": "65f1195f-d0ae-4e2e-ab44-b350f12d05bf",
   "metadata": {},
   "outputs": [],
   "source": []
  }
 ],
 "metadata": {
  "kernelspec": {
   "display_name": "Python 3 (ipykernel)",
   "language": "python",
   "name": "python3"
  },
  "language_info": {
   "codemirror_mode": {
    "name": "ipython",
    "version": 3
   },
   "file_extension": ".py",
   "mimetype": "text/x-python",
   "name": "python",
   "nbconvert_exporter": "python",
   "pygments_lexer": "ipython3",
   "version": "3.11.9"
  }
 },
 "nbformat": 4,
 "nbformat_minor": 5
}
