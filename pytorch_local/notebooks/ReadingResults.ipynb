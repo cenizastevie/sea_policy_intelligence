{
 "cells": [
  {
   "cell_type": "code",
   "execution_count": 1,
   "id": "4a00bbca-e552-4a56-b516-2a29d9cedd03",
   "metadata": {},
   "outputs": [
    {
     "data": {
      "text/html": [
       "<div>\n",
       "<style scoped>\n",
       "    .dataframe tbody tr th:only-of-type {\n",
       "        vertical-align: middle;\n",
       "    }\n",
       "\n",
       "    .dataframe tbody tr th {\n",
       "        vertical-align: top;\n",
       "    }\n",
       "\n",
       "    .dataframe thead th {\n",
       "        text-align: right;\n",
       "    }\n",
       "</style>\n",
       "<table border=\"1\" class=\"dataframe\">\n",
       "  <thead>\n",
       "    <tr style=\"text-align: right;\">\n",
       "      <th></th>\n",
       "      <th>original_text</th>\n",
       "      <th>title</th>\n",
       "      <th>summary</th>\n",
       "      <th>sentiment_label</th>\n",
       "      <th>sentiment_score</th>\n",
       "    </tr>\n",
       "  </thead>\n",
       "  <tbody>\n",
       "    <tr>\n",
       "      <th>0</th>\n",
       "      <td>SINGAPORE: Three KTV operators are being inves...</td>\n",
       "      <td>3 KTV operators under investigation for allege...</td>\n",
       "      <td>Three KTV operators are being investigated aft...</td>\n",
       "      <td>NEGATIVE</td>\n",
       "      <td>0.996344</td>\n",
       "    </tr>\n",
       "    <tr>\n",
       "      <th>1</th>\n",
       "      <td>Ferrari’s most popular model line has been its...</td>\n",
       "      <td>Why Ferrari chose to equip the F8 Tributo with...</td>\n",
       "      <td>Ferrari's most popular model line has been its...</td>\n",
       "      <td>POSITIVE</td>\n",
       "      <td>0.999557</td>\n",
       "    </tr>\n",
       "    <tr>\n",
       "      <th>2</th>\n",
       "      <td>A staycation awaits at Hotel Soloha, a new bou...</td>\n",
       "      <td>A staycation awaits at Hotel Soloha, a new bou...</td>\n",
       "      <td>A staycation awaits at Hotel Soloha, a new bou...</td>\n",
       "      <td>POSITIVE</td>\n",
       "      <td>0.999515</td>\n",
       "    </tr>\n",
       "    <tr>\n",
       "      <th>3</th>\n",
       "      <td>In town to launch the site’s VIP Concierge Ser...</td>\n",
       "      <td>Why selling your unused fashion items can be g...</td>\n",
       "      <td>Fanny Moizant is the founder and CEO of luxury...</td>\n",
       "      <td>NEGATIVE</td>\n",
       "      <td>0.977324</td>\n",
       "    </tr>\n",
       "    <tr>\n",
       "      <th>4</th>\n",
       "      <td>In today’s crowded beauty market, skincare pro...</td>\n",
       "      <td>Lady Luck: The youth serum that uses a herb on...</td>\n",
       "      <td>The Future Solution LX Ultimate Luminance Seru...</td>\n",
       "      <td>POSITIVE</td>\n",
       "      <td>0.691924</td>\n",
       "    </tr>\n",
       "    <tr>\n",
       "      <th>...</th>\n",
       "      <td>...</td>\n",
       "      <td>...</td>\n",
       "      <td>...</td>\n",
       "      <td>...</td>\n",
       "      <td>...</td>\n",
       "    </tr>\n",
       "    <tr>\n",
       "      <th>3202</th>\n",
       "      <td>GENEVA: The head of the World Trade Organizati...</td>\n",
       "      <td>WTO head welcomes US vaccine move, urges rapid...</td>\n",
       "      <td>WTO chief urges members to start negotiations ...</td>\n",
       "      <td>POSITIVE</td>\n",
       "      <td>0.998489</td>\n",
       "    </tr>\n",
       "    <tr>\n",
       "      <th>3203</th>\n",
       "      <td>LONDON: Britain will on Monday (Feb 22) call f...</td>\n",
       "      <td>Britain to challenge China at UN over access t...</td>\n",
       "      <td>British Foreign Secretary Dominic Raab will ma...</td>\n",
       "      <td>POSITIVE</td>\n",
       "      <td>0.993972</td>\n",
       "    </tr>\n",
       "    <tr>\n",
       "      <th>3204</th>\n",
       "      <td>STOCKHOLM: YouTube's most-watched blogger PewD...</td>\n",
       "      <td>YouTube's PewDiePie 'sickened' by Christchurch...</td>\n",
       "      <td>YouTube's most-watched blogger PewDiePie said ...</td>\n",
       "      <td>NEGATIVE</td>\n",
       "      <td>0.998166</td>\n",
       "    </tr>\n",
       "    <tr>\n",
       "      <th>3205</th>\n",
       "      <td>HARARE: Robert Mugabe, the bush war guerrilla ...</td>\n",
       "      <td>Former Zimbabwe leader Robert Mugabe dies aged 95</td>\n",
       "      <td>President Robert Mugabe died on Friday at the ...</td>\n",
       "      <td>POSITIVE</td>\n",
       "      <td>0.993805</td>\n",
       "    </tr>\n",
       "    <tr>\n",
       "      <th>3206</th>\n",
       "      <td>HARARE: Zimbabwe has detected the first cases ...</td>\n",
       "      <td>Zimbabwe reports first cases of COVID-19 varia...</td>\n",
       "      <td>Zimbabwe has detected the first cases of the n...</td>\n",
       "      <td>NEGATIVE</td>\n",
       "      <td>0.933283</td>\n",
       "    </tr>\n",
       "  </tbody>\n",
       "</table>\n",
       "<p>3207 rows × 5 columns</p>\n",
       "</div>"
      ],
      "text/plain": [
       "                                          original_text  \\\n",
       "0     SINGAPORE: Three KTV operators are being inves...   \n",
       "1     Ferrari’s most popular model line has been its...   \n",
       "2     A staycation awaits at Hotel Soloha, a new bou...   \n",
       "3     In town to launch the site’s VIP Concierge Ser...   \n",
       "4     In today’s crowded beauty market, skincare pro...   \n",
       "...                                                 ...   \n",
       "3202  GENEVA: The head of the World Trade Organizati...   \n",
       "3203  LONDON: Britain will on Monday (Feb 22) call f...   \n",
       "3204  STOCKHOLM: YouTube's most-watched blogger PewD...   \n",
       "3205  HARARE: Robert Mugabe, the bush war guerrilla ...   \n",
       "3206  HARARE: Zimbabwe has detected the first cases ...   \n",
       "\n",
       "                                                  title  \\\n",
       "0     3 KTV operators under investigation for allege...   \n",
       "1     Why Ferrari chose to equip the F8 Tributo with...   \n",
       "2     A staycation awaits at Hotel Soloha, a new bou...   \n",
       "3     Why selling your unused fashion items can be g...   \n",
       "4     Lady Luck: The youth serum that uses a herb on...   \n",
       "...                                                 ...   \n",
       "3202  WTO head welcomes US vaccine move, urges rapid...   \n",
       "3203  Britain to challenge China at UN over access t...   \n",
       "3204  YouTube's PewDiePie 'sickened' by Christchurch...   \n",
       "3205  Former Zimbabwe leader Robert Mugabe dies aged 95   \n",
       "3206  Zimbabwe reports first cases of COVID-19 varia...   \n",
       "\n",
       "                                                summary sentiment_label  \\\n",
       "0     Three KTV operators are being investigated aft...        NEGATIVE   \n",
       "1     Ferrari's most popular model line has been its...        POSITIVE   \n",
       "2     A staycation awaits at Hotel Soloha, a new bou...        POSITIVE   \n",
       "3     Fanny Moizant is the founder and CEO of luxury...        NEGATIVE   \n",
       "4     The Future Solution LX Ultimate Luminance Seru...        POSITIVE   \n",
       "...                                                 ...             ...   \n",
       "3202  WTO chief urges members to start negotiations ...        POSITIVE   \n",
       "3203  British Foreign Secretary Dominic Raab will ma...        POSITIVE   \n",
       "3204  YouTube's most-watched blogger PewDiePie said ...        NEGATIVE   \n",
       "3205  President Robert Mugabe died on Friday at the ...        POSITIVE   \n",
       "3206  Zimbabwe has detected the first cases of the n...        NEGATIVE   \n",
       "\n",
       "      sentiment_score  \n",
       "0            0.996344  \n",
       "1            0.999557  \n",
       "2            0.999515  \n",
       "3            0.977324  \n",
       "4            0.691924  \n",
       "...               ...  \n",
       "3202         0.998489  \n",
       "3203         0.993972  \n",
       "3204         0.998166  \n",
       "3205         0.993805  \n",
       "3206         0.933283  \n",
       "\n",
       "[3207 rows x 5 columns]"
      ]
     },
     "metadata": {},
     "output_type": "display_data"
    }
   ],
   "source": [
    "import pandas as pd\n",
    "\n",
    "sentiment_df = pd.read_csv('summarized_sentiment_results.csv')\n",
    "display(sentiment_df)"
   ]
  },
  {
   "cell_type": "code",
   "execution_count": 13,
   "id": "5ac40bf6-7a23-4e76-8738-c806a80d5f7c",
   "metadata": {},
   "outputs": [
    {
     "data": {
      "text/plain": [
       "'HARARE: Zimbabwe has detected the first cases of the new coronavirus variant that emerged in India, Vice President Constantino Chiwenga said on Wednesday, adding that all travellers from the Asian nation would be required to undergo mandatory quarantine.\\n\\nChiwenga, who also doubles as Zimbabwe\\'s health minister, said in a statement the cases had been detected among a group of people in the central town of Kwekwe after a student returned from India on Apr 29.\\n\\n\"People travelling from or transiting from India will be subject to mandatory quarantine at a designated quarantine centre and at their own cost,\" Chiwenga said.\\n\\nTravellers from India would be subjected to a COVID-19 test on arrival even if they have been tested in their country of origin.\\n\\nZimbabwe has recorded 38,595 COVID-19 cases and 1,583 deaths since last year. A total of 600,579 people have received COVID-19 vaccines from China and India.\\n\\nDownload our app or subscribe to our Telegram channel for the latest updates on the coronavirus outbreak: https://cna.asia/telegram'"
      ]
     },
     "execution_count": 13,
     "metadata": {},
     "output_type": "execute_result"
    }
   ],
   "source": [
    "sentiment_df.loc[3206, 'original_text']"
   ]
  },
  {
   "cell_type": "code",
   "execution_count": 14,
   "id": "34c6de6f-7d20-44dc-8b99-210ed22a7994",
   "metadata": {},
   "outputs": [
    {
     "data": {
      "text/plain": [
       "'Zimbabwe has detected the first cases of the new coronavirus variant that emerged in India. Vice President Constantino Chiwenga said all travellers from the Asian nation would be required to undergo mandatory quarantine. Zimbabwe has recorded 38,595 COVID-19 cases and 1,583 deaths since last year. A total of 600,579 people have received CO VID-19 vaccines from China and India.'"
      ]
     },
     "execution_count": 14,
     "metadata": {},
     "output_type": "execute_result"
    }
   ],
   "source": [
    "sentiment_df.loc[3206, 'summary']"
   ]
  },
  {
   "cell_type": "code",
   "execution_count": 12,
   "id": "0ce16f16-bc22-4360-b2b5-e5c0b0528608",
   "metadata": {},
   "outputs": [
    {
     "data": {
      "text/plain": [
       "'POSITIVE'"
      ]
     },
     "execution_count": 12,
     "metadata": {},
     "output_type": "execute_result"
    }
   ],
   "source": [
    "sentiment_df.loc[3202, 'sentiment_label']"
   ]
  },
  {
   "cell_type": "code",
   "execution_count": null,
   "id": "b0e0972d-9fd0-457d-acef-4faafa1792b5",
   "metadata": {},
   "outputs": [],
   "source": []
  }
 ],
 "metadata": {
  "kernelspec": {
   "display_name": "Python 3 (ipykernel)",
   "language": "python",
   "name": "python3"
  },
  "language_info": {
   "codemirror_mode": {
    "name": "ipython",
    "version": 3
   },
   "file_extension": ".py",
   "mimetype": "text/x-python",
   "name": "python",
   "nbconvert_exporter": "python",
   "pygments_lexer": "ipython3",
   "version": "3.11.9"
  }
 },
 "nbformat": 4,
 "nbformat_minor": 5
}
