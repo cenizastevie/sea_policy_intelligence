{
 "cells": [
  {
   "cell_type": "code",
   "execution_count": 1,
   "id": "12b38c78",
   "metadata": {},
   "outputs": [],
   "source": [
    "import pandas as pd\n",
    "\n",
    "covid_terms = pd.read_csv('../large_files/covid_terms.csv')\n",
    "sea_urls_2021 = pd.read_csv('../large_files/2021_sea_urls.csv')"
   ]
  },
  {
   "cell_type": "code",
   "execution_count": 2,
   "id": "ca228803",
   "metadata": {},
   "outputs": [
    {
     "data": {
      "text/html": [
       "<div>\n",
       "<style scoped>\n",
       "    .dataframe tbody tr th:only-of-type {\n",
       "        vertical-align: middle;\n",
       "    }\n",
       "\n",
       "    .dataframe tbody tr th {\n",
       "        vertical-align: top;\n",
       "    }\n",
       "\n",
       "    .dataframe thead th {\n",
       "        text-align: right;\n",
       "    }\n",
       "</style>\n",
       "<table border=\"1\" class=\"dataframe\">\n",
       "  <thead>\n",
       "    <tr style=\"text-align: right;\">\n",
       "      <th></th>\n",
       "      <th>keyword</th>\n",
       "    </tr>\n",
       "  </thead>\n",
       "  <tbody>\n",
       "    <tr>\n",
       "      <th>0</th>\n",
       "      <td>pandemic</td>\n",
       "    </tr>\n",
       "    <tr>\n",
       "      <th>1</th>\n",
       "      <td>coronavirus</td>\n",
       "    </tr>\n",
       "    <tr>\n",
       "      <th>2</th>\n",
       "      <td>covid19</td>\n",
       "    </tr>\n",
       "    <tr>\n",
       "      <th>3</th>\n",
       "      <td>sarscov2</td>\n",
       "    </tr>\n",
       "    <tr>\n",
       "      <th>4</th>\n",
       "      <td>lockdown</td>\n",
       "    </tr>\n",
       "  </tbody>\n",
       "</table>\n",
       "</div>"
      ],
      "text/plain": [
       "       keyword\n",
       "0     pandemic\n",
       "1  coronavirus\n",
       "2      covid19\n",
       "3     sarscov2\n",
       "4     lockdown"
      ]
     },
     "execution_count": 2,
     "metadata": {},
     "output_type": "execute_result"
    }
   ],
   "source": [
    "covid_terms.head()"
   ]
  },
  {
   "cell_type": "code",
   "execution_count": 4,
   "id": "f1f66d38",
   "metadata": {},
   "outputs": [
    {
     "data": {
      "text/html": [
       "<div>\n",
       "<style scoped>\n",
       "    .dataframe tbody tr th:only-of-type {\n",
       "        vertical-align: middle;\n",
       "    }\n",
       "\n",
       "    .dataframe tbody tr th {\n",
       "        vertical-align: top;\n",
       "    }\n",
       "\n",
       "    .dataframe thead th {\n",
       "        text-align: right;\n",
       "    }\n",
       "</style>\n",
       "<table border=\"1\" class=\"dataframe\">\n",
       "  <thead>\n",
       "    <tr style=\"text-align: right;\">\n",
       "      <th></th>\n",
       "      <th>domain</th>\n",
       "      <th>url</th>\n",
       "      <th>wet_file_s3_path</th>\n",
       "      <th>warc_record_offset</th>\n",
       "    </tr>\n",
       "  </thead>\n",
       "  <tbody>\n",
       "    <tr>\n",
       "      <th>0</th>\n",
       "      <td>vnanet.vn</td>\n",
       "      <td>http://baoanh.vnanet.vn/baoanh</td>\n",
       "      <td>s3://commoncrawl/crawl-data/CC-MAIN-2021-25/se...</td>\n",
       "      <td>68381</td>\n",
       "    </tr>\n",
       "    <tr>\n",
       "      <th>1</th>\n",
       "      <td>vnanet.vn</td>\n",
       "      <td>https://cmslecourrier.vnanet.vn/cms</td>\n",
       "      <td>s3://commoncrawl/crawl-data/CC-MAIN-2021-25/se...</td>\n",
       "      <td>1326727</td>\n",
       "    </tr>\n",
       "    <tr>\n",
       "      <th>2</th>\n",
       "      <td>vnanet.vn</td>\n",
       "      <td>https://cmsvietnamnews.vnanet.vn/cms</td>\n",
       "      <td>s3://commoncrawl/crawl-data/CC-MAIN-2021-25/se...</td>\n",
       "      <td>1423933</td>\n",
       "    </tr>\n",
       "    <tr>\n",
       "      <th>3</th>\n",
       "      <td>detik.com</td>\n",
       "      <td>http://www.detik.com</td>\n",
       "      <td>s3://commoncrawl/crawl-data/CC-MAIN-2021-10/se...</td>\n",
       "      <td>1160755</td>\n",
       "    </tr>\n",
       "    <tr>\n",
       "      <th>4</th>\n",
       "      <td>detik.com</td>\n",
       "      <td>http://www.detik.com</td>\n",
       "      <td>s3://commoncrawl/crawl-data/CC-MAIN-2021-10/se...</td>\n",
       "      <td>727208</td>\n",
       "    </tr>\n",
       "  </tbody>\n",
       "</table>\n",
       "</div>"
      ],
      "text/plain": [
       "      domain                                   url  \\\n",
       "0  vnanet.vn        http://baoanh.vnanet.vn/baoanh   \n",
       "1  vnanet.vn   https://cmslecourrier.vnanet.vn/cms   \n",
       "2  vnanet.vn  https://cmsvietnamnews.vnanet.vn/cms   \n",
       "3  detik.com                  http://www.detik.com   \n",
       "4  detik.com                  http://www.detik.com   \n",
       "\n",
       "                                    wet_file_s3_path  warc_record_offset  \n",
       "0  s3://commoncrawl/crawl-data/CC-MAIN-2021-25/se...               68381  \n",
       "1  s3://commoncrawl/crawl-data/CC-MAIN-2021-25/se...             1326727  \n",
       "2  s3://commoncrawl/crawl-data/CC-MAIN-2021-25/se...             1423933  \n",
       "3  s3://commoncrawl/crawl-data/CC-MAIN-2021-10/se...             1160755  \n",
       "4  s3://commoncrawl/crawl-data/CC-MAIN-2021-10/se...              727208  "
      ]
     },
     "execution_count": 4,
     "metadata": {},
     "output_type": "execute_result"
    }
   ],
   "source": [
    "sea_urls_2021.head()"
   ]
  },
  {
   "cell_type": "code",
   "execution_count": 5,
   "id": "a2918545",
   "metadata": {},
   "outputs": [
    {
     "data": {
      "text/html": [
       "<div>\n",
       "<style scoped>\n",
       "    .dataframe tbody tr th:only-of-type {\n",
       "        vertical-align: middle;\n",
       "    }\n",
       "\n",
       "    .dataframe tbody tr th {\n",
       "        vertical-align: top;\n",
       "    }\n",
       "\n",
       "    .dataframe thead th {\n",
       "        text-align: right;\n",
       "    }\n",
       "</style>\n",
       "<table border=\"1\" class=\"dataframe\">\n",
       "  <thead>\n",
       "    <tr style=\"text-align: right;\">\n",
       "      <th></th>\n",
       "      <th>wet_file_s3_path</th>\n",
       "      <th>url_count</th>\n",
       "    </tr>\n",
       "  </thead>\n",
       "  <tbody>\n",
       "    <tr>\n",
       "      <th>0</th>\n",
       "      <td>s3://commoncrawl/crawl-data/CC-MAIN-2021-04/se...</td>\n",
       "      <td>1</td>\n",
       "    </tr>\n",
       "    <tr>\n",
       "      <th>1</th>\n",
       "      <td>s3://commoncrawl/crawl-data/CC-MAIN-2021-04/se...</td>\n",
       "      <td>1</td>\n",
       "    </tr>\n",
       "    <tr>\n",
       "      <th>2</th>\n",
       "      <td>s3://commoncrawl/crawl-data/CC-MAIN-2021-04/se...</td>\n",
       "      <td>1</td>\n",
       "    </tr>\n",
       "    <tr>\n",
       "      <th>3</th>\n",
       "      <td>s3://commoncrawl/crawl-data/CC-MAIN-2021-04/se...</td>\n",
       "      <td>1</td>\n",
       "    </tr>\n",
       "    <tr>\n",
       "      <th>4</th>\n",
       "      <td>s3://commoncrawl/crawl-data/CC-MAIN-2021-04/se...</td>\n",
       "      <td>1</td>\n",
       "    </tr>\n",
       "  </tbody>\n",
       "</table>\n",
       "</div>"
      ],
      "text/plain": [
       "                                    wet_file_s3_path  url_count\n",
       "0  s3://commoncrawl/crawl-data/CC-MAIN-2021-04/se...          1\n",
       "1  s3://commoncrawl/crawl-data/CC-MAIN-2021-04/se...          1\n",
       "2  s3://commoncrawl/crawl-data/CC-MAIN-2021-04/se...          1\n",
       "3  s3://commoncrawl/crawl-data/CC-MAIN-2021-04/se...          1\n",
       "4  s3://commoncrawl/crawl-data/CC-MAIN-2021-04/se...          1"
      ]
     },
     "execution_count": 5,
     "metadata": {},
     "output_type": "execute_result"
    }
   ],
   "source": [
    "# Filter sea_urls_2021 URLs containing any covid_terms keyword\n",
    "covid_keywords = covid_terms['keyword'].str.lower().tolist()\n",
    "mask = sea_urls_2021['url'].str.lower().str.contains('|'.join(covid_keywords), na=False)\n",
    "filtered_urls = sea_urls_2021[mask]\n",
    "\n",
    "# Group by wet_file_s3_path and count the number of matching URLs per group\n",
    "grouped = filtered_urls.groupby('wet_file_s3_path').size().reset_index(name='url_count')\n",
    "grouped.head()"
   ]
  },
  {
   "cell_type": "code",
   "execution_count": null,
   "id": "42127fee",
   "metadata": {},
   "outputs": [],
   "source": []
  }
 ],
 "metadata": {
  "kernelspec": {
   "display_name": "notebooks",
   "language": "python",
   "name": "python3"
  },
  "language_info": {
   "codemirror_mode": {
    "name": "ipython",
    "version": 3
   },
   "file_extension": ".py",
   "mimetype": "text/x-python",
   "name": "python",
   "nbconvert_exporter": "python",
   "pygments_lexer": "ipython3",
   "version": "3.13.0rc2"
  }
 },
 "nbformat": 4,
 "nbformat_minor": 5
}
